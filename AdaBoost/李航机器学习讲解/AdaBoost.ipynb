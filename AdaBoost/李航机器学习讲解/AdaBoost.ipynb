{
 "cells": [
  {
   "cell_type": "markdown",
   "metadata": {},
   "source": [
    "# AdaBoost梯度提升算法\n",
    "\n",
    "## 算法步骤与原理\n",
    "\n",
    "1. 训练 $ m $ 个弱学习分类器，分类器有相同的接口\n",
    "$$ \n",
    "G_{m}(x) : \\mathcal{X} \\rightarrow\\{x_{1},x_{2} \\dots\\}\n",
    " $$\n",
    "2. 假设数据有均匀的权值分布，即每个样本在分类器中作用相同，$ n $个实例的权重为\n",
    "$$ \n",
    "D_{1}=\\left(w_{11}, \\cdots, w_{1 i}, \\cdots, w_{1 N}\\right), \\quad w_{1 i}=\\frac{1}{N}, \\quad i=1,2, \\cdots, N\n",
    " $$\n",
    " 对于$ m $个分类器而言，有$ m \\times n $个权重\n",
    "3. 进入迭代循环，在每一次循环中进行如下操作\n",
    "\n",
    "    3.1 计算$ m $个分类器在加权数据集上的分类错误率\n",
    "    $$ \n",
    "    e_{m}=P\\left(G_{m}\\left(x_{i}\\right) \\neq y_{i}\\right)=\\sum_{C_{n}\\left(x_{i}\\right) \\neq y_{i}} w_{m i}\n",
    "    $$\n",
    "    3.2 计算每个分类器的权重$ alpha_{m} $，该权重表明，每个单独分类器在最终分类器中的重要程度\n",
    "    $$ \n",
    "    \\alpha_{m}=\\frac{1}{2} \\log \\frac{1-e_{m}}{e_{m}}\n",
    "    $$\n",
    "    * 由上式可知，随着分类器的误差率的减小，其权重值越大\n",
    "    \n",
    "   3.3 更新数据集的权重分布\n",
    "    \n",
    "    $$ \n",
    "\\begin{array}{c}{D_{m+1}=\\left(w_{m+1,1}, \\cdots, w_{m+1, i}, \\cdots, w_{m+1, N}\\right)} \\\\ {w_{m+1, i}=\\frac{w_{m i}}{Z_{m}} \\exp \\left(-\\alpha_{m} (y_{i}== G_{m}\\left(x_{i})\\right)\\right), \\quad i=1,2, \\cdots, N}\\end{array}\n",
    " $$\n",
    " $$ \n",
    "Z_{m}=\\sum_{i=1}^{N} w_{m i} \\exp \\left(-\\alpha_{m} y_{i} G_{m}\\left(x_{i}\\right)\\right)\n",
    " $$\n",
    " \n",
    "    * 由上式可知\n",
    "         $$ \n",
    "w_{m+1, i}=\\left\\{\\begin{array}{ll}{\\frac{w_{m i}}{Z_{m}} \\mathrm{e}^{-\\alpha_{m}},} & {G_{m}\\left(x_{i}\\right)=y_{i}} \\\\ {\\frac{w_{m i}}{Z_{m}} \\mathrm{e}^{\\alpha_{m}},} & {G_{m}\\left(x_{i}\\right) \\neq y_{i}}\\end{array}\\right.\n",
    " $$\n",
    "     预测错误的实例，权重提升。预测正确的实例，权重下降。\n",
    "    \n",
    " \n"
   ]
  },
  {
   "cell_type": "code",
   "execution_count": 9,
   "metadata": {},
   "outputs": [],
   "source": [
    "import numpy as np\n",
    "import matplotlib.pyplot as plt\n",
    "\n",
    "class AdaBoost:\n",
    "    def __init__(self, clf_list, iteration_times):\n",
    "        '''\n",
    "        分类器需要有相同的fit，transform借口用于训练及预测\n",
    "        '''\n",
    "        self.clf_list = clf_list\n",
    "        self.iteration_times = iteration_times\n",
    "        self.x_weight_matrix = None\n",
    "        self.clf_weight = None\n",
    "    def _fit_once(self, x, y, x_weight_matrix, clf_weight):\n",
    "        pass\n",
    "    def fit(self, x, y):\n",
    "        m = len(self.clf_list)\n",
    "        n = x.shape[0]\n",
    "        if(0 == n or 0 == m):\n",
    "            return\n",
    "        self.x_weight_matrix = np.full((m, n), 1/n)\n",
    "        self.clf_weight = np.full((m, 1), 1/m)\n",
    "        print(self.x_weight_matrix)\n",
    "        for i in range(self.iteration_times):\n",
    "            self._fit_once(x, y, self.x_weight_matrix, self.clf_weight)\n",
    "    "
   ]
  },
  {
   "cell_type": "code",
   "execution_count": 10,
   "metadata": {},
   "outputs": [
    {
     "name": "stdout",
     "output_type": "stream",
     "text": [
      "[[0.33333333 0.33333333 0.33333333]]\n"
     ]
    }
   ],
   "source": [
    "adaboost = AdaBoost([1], 10)\n",
    "adaboost.fit(np.array([[1,2], [3,4], [5,6]]), [1,-1,1])"
   ]
  },
  {
   "cell_type": "code",
   "execution_count": null,
   "metadata": {},
   "outputs": [],
   "source": []
  }
 ],
 "metadata": {
  "kernelspec": {
   "display_name": "Python 3",
   "language": "python",
   "name": "python3"
  },
  "language_info": {
   "codemirror_mode": {
    "name": "ipython",
    "version": 3
   },
   "file_extension": ".py",
   "mimetype": "text/x-python",
   "name": "python",
   "nbconvert_exporter": "python",
   "pygments_lexer": "ipython3",
   "version": "3.7.3"
  }
 },
 "nbformat": 4,
 "nbformat_minor": 2
}
