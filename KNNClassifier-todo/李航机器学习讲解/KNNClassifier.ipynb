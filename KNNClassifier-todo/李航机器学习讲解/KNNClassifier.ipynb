{
 "cells": [
  {
   "cell_type": "markdown",
   "metadata": {},
   "source": [
    "# K近邻分类算法\n",
    "## 公式笔记"
   ]
  },
  {
   "cell_type": "markdown",
   "metadata": {},
   "source": [
    "* Lp距离公式\n",
    "$$ \n",
    "L_{p}\\left(x_{i}, x_{j}\\right)=\\left(\\sum_{l=1}^{n}\\left|x_{i}^{(l)}-x_{j}^{(l)}\\right|^{p}\\right)^{\\frac{1}{p}}\n",
    "$$"
   ]
  },
  {
   "cell_type": "markdown",
   "metadata": {},
   "source": [
    "* $ p=2 $ 为欧氏距离\n",
    "$$ \n",
    "L_{2}\\left(x_{i}, x_{j}\\right)=\\left(\\sum_{l=1}^{n}\\left|x_{i}^{(l)}-x_{j}^{(l)}\\right|^{2}\\right)^{\\frac{1}{2}}\n",
    " $$"
   ]
  },
  {
   "cell_type": "markdown",
   "metadata": {},
   "source": [
    "* $ p=1 $ 为曼哈顿距离\n",
    "$$ \n",
    "L_{1}\\left(x_{i}, x_{j}\\right)=\\sum_{l=1}^{n}\\left|x_{i}^{(l)}-x_{j}^{(l)}\\right|\n",
    " $$"
   ]
  },
  {
   "cell_type": "markdown",
   "metadata": {},
   "source": [
    "## KNNClassifier实现\n"
   ]
  },
  {
   "cell_type": "code",
   "execution_count": 7,
   "metadata": {
    "collapsed": true
   },
   "outputs": [],
   "source": [
    "#优先队列\n"
   ]
  },
  {
   "cell_type": "code",
   "execution_count": 8,
   "metadata": {},
   "outputs": [
    {
     "ename": "SyntaxError",
     "evalue": "invalid syntax (<ipython-input-8-103bf24a4bd3>, line 53)",
     "output_type": "error",
     "traceback": [
      "\u001b[1;36m  File \u001b[1;32m\"<ipython-input-8-103bf24a4bd3>\"\u001b[1;36m, line \u001b[1;32m53\u001b[0m\n\u001b[1;33m    def _search_k_neighbour(self, node)\u001b[0m\n\u001b[1;37m                                       ^\u001b[0m\n\u001b[1;31mSyntaxError\u001b[0m\u001b[1;31m:\u001b[0m invalid syntax\n"
     ]
    }
   ],
   "source": [
    "class kdTreeNode:\n",
    "    def __init__(self, x, index, target_dim, parent):\n",
    "        '''\n",
    "        所有节点共用x\n",
    "        利用索引来表示该节点所覆盖的数据\n",
    "        '''\n",
    "        self.x = x\n",
    "        self.index = index\n",
    "        self.target_dim = target_dim\n",
    "        self.parent = parent\n",
    "        self.left = None\n",
    "        self.right = None\n",
    "        self.target_index = None\n",
    "    def set_left(self, left):\n",
    "        self.left = left\n",
    "    def set_right(self, right):\n",
    "        self.right = right\n",
    "    def set_target_index(self, target_index):\n",
    "        self.target_index = target_index\n",
    "class kdTree:\n",
    "    def __init__(self, x):\n",
    "        self.dim = len(x[0])\n",
    "        self.x = x.copy()\n",
    "        self.tree_done = False\n",
    "    def _fit(self, node):\n",
    "        if(node == None):\n",
    "            return\n",
    "        left_index, mid_index, right_index = self._get_sorted_index(node.index, node.target_dim)\n",
    "        node.set_target_index(mid_index)\n",
    "        #print(node.x[mid_index])\n",
    "        if(len(left_index) != 0):\n",
    "            #print('left')\n",
    "            node.set_left(kdTreeNode(self.x, left_index, (node.target_dim + 1)%self.dim, node))\n",
    "            self._fit(node.left)\n",
    "        if(len(right_index) != 0):\n",
    "            #print('right')\n",
    "            node.set_right(kdTreeNode(self.x, right_index, (node.target_dim + 1)%self.dim, node))\n",
    "            self._fit(node.right)\n",
    "    def fit(self):\n",
    "        self.root = kdTreeNode(self.x, np.arange(len(self.x)), 0, None)\n",
    "        self._fit(self.root)\n",
    "        return self\n",
    "    def _get_sorted_index(self, index_list, dim):\n",
    "        temp_val = np.hstack((self.x[index_list], np.array([index_list]).T))\n",
    "        mid = len(temp_val) // 2\n",
    "        temp_val = temp_val[temp_val[:,dim].argsort()]\n",
    "        return temp_val[:mid][:, -1], temp_val[mid][-1], temp_val[mid+1:][:, -1]\n",
    "    def _fix_max_k():\n",
    "        pass\n",
    "    def search_k_neighbour(self, x, k):\n",
    "        k_neighbour = np.zeros()\n",
    "        \n",
    "    def _search_k_neighbour(self, node)\n",
    "        target_val = node.x[node.target_index]\n",
    "        if((target_val == x).all()):\n",
    "            pass\n",
    "        elif(x[node.target_dim] < target_val[node.target_dim]):\n",
    "            if(node.left != None):\n",
    "                self._search_k_neighbour(node.left)\n",
    "        else:\n",
    "            if(node.right != None):\n",
    "                self._search_k_neighbour(node.right)\n",
    "                \n",
    "        print(node.x[node.target_index])\n",
    "                \n",
    "                \n",
    "            \n",
    "        "
   ]
  },
  {
   "cell_type": "code",
   "execution_count": null,
   "metadata": {
    "scrolled": true
   },
   "outputs": [],
   "source": [
    "import numpy as np\n",
    "from math import *\n",
    "\n",
    "class KNNClassifier:\n",
    "    def __init__(self, dist_type):\n",
    "        if(dist_type == 'm'):\n",
    "            #曼哈顿距离\n",
    "            self.dist_p = 1\n",
    "        else:\n",
    "            #e：欧氏距离\n",
    "            self.dist_p = 2\n",
    "    def _get_dist(self, x1, x2):\n",
    "        #需要x维度相同\n",
    "        dis = 0\n",
    "        for i in zip(x1, x2):\n",
    "            dis += pow(abs(x1 - x2), self.dist_p)\n",
    "        dis = pow(dis, 1.0/self.dist_p)\n",
    "        return dis\n",
    "    def fit(self, x, y):\n",
    "        '''\n",
    "        只支持numpy二维数组\n",
    "        '''\n",
    "        self.tree = kdTree(x).fit()\n",
    "        return self\n",
    "        #self._get_dist(x[0], x[1])\n",
    "    def searchKNeighbour(self, x, k):\n",
    "         self.tree.searchKNeighbour(x, k)\n",
    "            \n",
    "#if __name__ == '__main__':\n",
    "x = np.random.randint(1, 100, (10000, 3))\n",
    "y = np.random.randint(1, 100, (10000, 1))\n",
    "knn_clf = KNNClassifier(dist_type = 'e').fit(x, y)\n",
    "knn_clf.searchKNeighbour([44, 16, 46], 3)"
   ]
  },
  {
   "cell_type": "code",
   "execution_count": 9,
   "metadata": {},
   "outputs": [
    {
     "name": "stdout",
     "output_type": "stream",
     "text": [
      "[ 7 14]\n",
      "[7, 7] [0, 20]\n",
      "[6 1]\n",
      "[0, 7] [1, 1]\n",
      "[6 1]\n",
      "[6, 6] [0, 1]\n",
      "[ 5 11]\n",
      "[5, 5] [1, 7]\n",
      "[14 12]\n",
      "[7, 20] [12, 12]\n",
      "[11 12]\n",
      "[11, 11] [7, 12]\n"
     ]
    },
    {
     "data": {
      "image/png": "[encoded data removed]",
      "text/plain": [
       "<Figure size 432x288 with 1 Axes>"
      ]
     },
     "metadata": {},
     "output_type": "display_data"
    }
   ],
   "source": [
    "'''\n",
    "验证kd树\n",
    "'''\n",
    "xx = np.random.randint(1, 20, (6, 2))\n",
    "tree = kdTree(xx).fit()\n",
    "node = tree.root\n",
    "import matplotlib.pyplot as plt\n",
    "def walk(node, low_edge, high_edge):\n",
    "    if(node != None):\n",
    "        print(node.x[node.target_index])\n",
    "        if(node.target_dim == 0):\n",
    "            print([node.x[node.target_index][node.target_dim], node.x[node.target_index][node.target_dim]], [low_edge, high_edge])\n",
    "            plt.plot([node.x[node.target_index][node.target_dim], node.x[node.target_index][node.target_dim]], [low_edge, high_edge], color = 'red')\n",
    "        else:\n",
    "            print([low_edge, high_edge], [node.x[node.target_index][node.target_dim], node.x[node.target_index][node.target_dim]])\n",
    "            plt.plot([low_edge, high_edge], [node.x[node.target_index][node.target_dim], node.x[node.target_index][node.target_dim]], color = 'red')\n",
    "        walk(node.left, low_edge, node.x[node.target_index][node.target_dim])\n",
    "        walk(node.right, node.x[node.target_index][node.target_dim], high_edge)\n",
    "        \n",
    "walk(node,0, 20)\n",
    "\n",
    "\n",
    "plt.scatter(xx[:, 0], xx[:, 1])\n",
    "plt.show()"
   ]
  },
  {
   "cell_type": "code",
   "execution_count": null,
   "metadata": {
    "collapsed": true
   },
   "outputs": [],
   "source": []
  }
 ],
 "metadata": {
  "kernelspec": {
   "display_name": "Python 3",
   "language": "python",
   "name": "python3"
  },
  "language_info": {
   "codemirror_mode": {
    "name": "ipython",
    "version": 3
   },
   "file_extension": ".py",
   "mimetype": "text/x-python",
   "name": "python",
   "nbconvert_exporter": "python",
   "pygments_lexer": "ipython3",
   "version": "3.6.2"
  }
 },
 "nbformat": 4,
 "nbformat_minor": 2
}
