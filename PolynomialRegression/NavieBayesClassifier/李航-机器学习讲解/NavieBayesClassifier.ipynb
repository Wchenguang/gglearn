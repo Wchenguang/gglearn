{
 "cells": [
  {
   "cell_type": "markdown",
   "metadata": {},
   "source": [
    "# 朴素贝叶斯\n",
    "## 公式推导"
   ]
  },
  {
   "cell_type": "markdown",
   "metadata": {},
   "source": [
    "### 贝叶斯算法的原理，在李航机器学习的书中已有详细证明，一下只对关键问题进行证明"
   ]
  },
  {
   "cell_type": "markdown",
   "metadata": {},
   "source": [
    "1 为什么贝叶斯中后验概率最大化等价于经验风险最小化"
   ]
  },
  {
   "cell_type": "markdown",
   "metadata": {},
   "source": [
    "* 令$ L(y, f(x)) $为损失函数，通过积分可以得到经验损失\n"
   ]
  },
  {
   "cell_type": "markdown",
   "metadata": {},
   "source": [
    "$$ \n",
    "\\begin{array}{l}{R_{\\mathrm{epp}}(f)=\\int_{x} \\int_{y} L(y, f(x)) \\times P(x, y) d x d y} \\\\ {=\\int_{x} \\int_{y} L(y, f(x)) \\times P(y | x) P(x) d x d y} \\\\ {=\\int_{x} P(x) d x \\int_{y} L(y, f(x)) \\times P(y | x) d y} \\\\ {\\min \\left(\\int_{y} L(y, f(x)) \\times P(y | x) d y\\right) \\rightarrow \\min \\left(\\sum_{i=1}^{n} L\\left(y_{i}, f\\left(x_{i}\\right)\\right) \\times P\\left(Y=y_{i} | X=x_{i}\\right)\\right)} \\\\ {\\min \\left(\\sum_{k=1}^{K} L\\left(c_{k}, y\\right) \\times P\\left(c_{k} | X=x\\right)\\right)}\\end{array}\n",
    " $$"
   ]
  },
  {
   "cell_type": "markdown",
   "metadata": {},
   "source": [
    "* 令损失函数为指示函数，则可得等价形式"
   ]
  },
  {
   "cell_type": "markdown",
   "metadata": {},
   "source": [
    "$$ \n",
    "\\begin{array}{l}{\\min \\left(\\sum_{k=1}^{K} L\\left(c_{k}, y\\right) \\times P\\left(c_{k} | X=x\\right)\\right)} \\\\ {=\\min \\left(\\sum_{k=1}^{K} P\\left(c_{k} \\neq y | X=x\\right)\\right)} \\\\ {=\\min \\left(\\sum_{k=1}^{K} 1-P\\left(c_{k}=y | X=x\\right)\\right)} \\\\ {=\\max \\left(P\\left(c_{k}=y | X=x\\right)\\right)}\\end{array}\n",
    " $$"
   ]
  },
  {
   "cell_type": "markdown",
   "metadata": {},
   "source": [
    "2 贝叶斯原理公式\n",
    "\n",
    "$$ \n",
    "P\\left(Y=c_{k} | X=x\\right)=\\frac{P\\left(X=x | Y=c_{k}\\right) P\\left(Y=c_{k}\\right)}{\\sum_{k} P\\left(X=x | Y=c_{k}\\right) P\\left(Y=c_{k}\\right)}\n",
    " $$\n",
    " \n",
    " $$ \n",
    "P\\left(Y=c_{k} | X=x\\right)=\\frac{P\\left(Y=c_{k}\\right) \\prod_{j} P\\left(X^{(j)}=\\dot{x}^{(j)} | Y=c_{k}\\right)}{\\sum_{k} P\\left(Y=c_{k}\\right) \\prod_{j} P\\left(X^{(j)}=x^{(j)} | Y=c_{k}\\right)}\n",
    " $$"
   ]
  },
  {
   "cell_type": "code",
   "execution_count": 42,
   "metadata": {
    "collapsed": true
   },
   "outputs": [],
   "source": [
    "import numpy as np\n",
    "\n",
    "class NavieBayesClassifier:\n",
    "    def __init__(self, lamb = 0):\n",
    "        self.prior_prob_y = {}\n",
    "        self.prior_prob_x = {}\n",
    "        self.x_dim = 0\n",
    "        #拉普拉斯平滑系数\n",
    "        self.lamb = lamb\n",
    "    def fit(self, x, y):\n",
    "        '''\n",
    "        x是二维ndarray数组\n",
    "        y是一维ndarray数组\n",
    "        x，y长度相同\n",
    "        '''\n",
    "        self.x_dim = len(x[0])\n",
    "        y_list = y.tolist()\n",
    "        y_unique = np.unique(y)\n",
    "        for val in y_unique:\n",
    "            self.prior_prob_y[val] = y_list.count(val)/len(y_list)\n",
    "        y = np.array([y_list])\n",
    "        xy = np.hstack((x, y.T))\n",
    "        for d in range(self.x_dim):\n",
    "            #处理x不同维度\n",
    "            x_and_y = xy[:, (d,-1)]\n",
    "            x_unique = np.unique(xy[:, d])\n",
    "            laplace = len(x_unique)\n",
    "            self.prior_prob_x[d] = {}\n",
    "            for yy in y_unique:\n",
    "                #处理不同的y值\n",
    "                x_when_yy = x_and_y[x_and_y[:, -1] == yy]\n",
    "                x_list = x_when_yy[:, 0].tolist()\n",
    "                self.prior_prob_x[d][yy] = {}\n",
    "                for xx in x_unique:\n",
    "                    #获取固定的y下，不同的x的概率\n",
    "                    self.prior_prob_x[d][yy][xx] = (x_list.count(xx) + self.lamb) / (len(x_list) + laplace * self.lamb)\n",
    "    def predict(self, x):\n",
    "        '''\n",
    "        x是一维数组\n",
    "        '''\n",
    "        res = {}\n",
    "        all_pro = 0\n",
    "        for y_val in self.prior_prob_y:\n",
    "            res[y_val] = self.prior_prob_y[y_val]\n",
    "            px_y = 1\n",
    "            for d in range(self.x_dim):\n",
    "                print(d, y_val, x[d], self.prior_prob_x[d][y_val][x[d]])\n",
    "                px_y *= self.prior_prob_x[d][y_val][x[d]]\n",
    "            res[y_val] *= px_y\n",
    "            all_pro += res[y_val]\n",
    "        for y_val in res:\n",
    "            res[y_val] /= all_pro\n"
   ]
  },
  {
   "cell_type": "code",
   "execution_count": 43,
   "metadata": {},
   "outputs": [
    {
     "name": "stdout",
     "output_type": "stream",
     "text": [
      "x prob {0: {-1: {1: 0.4444444444444444, 2: 0.3333333333333333, 3: 0.2222222222222222}, 1: {1: 0.25, 2: 0.3333333333333333, 3: 0.4166666666666667}}, 1: {-1: {4: 0.4444444444444444, 5: 0.3333333333333333, 6: 0.2222222222222222}, 1: {4: 0.16666666666666666, 5: 0.4166666666666667, 6: 0.4166666666666667}}}\n",
      "y prob {-1: 0.4, 1: 0.6}\n"
     ]
    }
   ],
   "source": [
    "#利用书中的实例测试\n",
    "# if __name__ == '__main__':\n",
    "xy = [[1,4,-1],\n",
    "    [1,5,-1],\n",
    "    [1,5,1],\n",
    "    [1,4,1],\n",
    "    [1,4,-1],\n",
    "    [2,4,-1],\n",
    "    [2,5,-1],\n",
    "    [2,5,1],\n",
    "    [2,6,1],\n",
    "    [2,6,1],\n",
    "    [3,6,1],\n",
    "    [3,5,1],\n",
    "    [3,5,1],\n",
    "    [3,6,1],\n",
    "    [3,6,-1]]\n",
    "xy = np.array(xy)\n",
    "\n",
    "\n",
    "sb_clf = NavieBayesClassifier(1)\n",
    "sb_clf.fit(xy[:, (0,1)], xy[:, -1])\n",
    "\n",
    "print('x prob', sb_clf.prior_prob_x)\n",
    "print('y prob', sb_clf.prior_prob_y)\n"
   ]
  },
  {
   "cell_type": "markdown",
   "metadata": {},
   "source": [
    "* 得到了和书中（带有laplace平滑）一样的结果"
   ]
  },
  {
   "cell_type": "code",
   "execution_count": null,
   "metadata": {
    "collapsed": true
   },
   "outputs": [],
   "source": []
  }
 ],
 "metadata": {
  "kernelspec": {
   "display_name": "Python 3",
   "language": "python",
   "name": "python3"
  },
  "language_info": {
   "codemirror_mode": {
    "name": "ipython",
    "version": 3
   },
   "file_extension": ".py",
   "mimetype": "text/x-python",
   "name": "python",
   "nbconvert_exporter": "python",
   "pygments_lexer": "ipython3",
   "version": "3.6.2"
  }
 },
 "nbformat": 4,
 "nbformat_minor": 2
}
