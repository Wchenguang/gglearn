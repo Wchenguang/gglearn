{
 "cells": [
  {
   "cell_type": "markdown",
   "metadata": {},
   "source": [
    "# K近邻分类算法\n",
    "## 公式笔记"
   ]
  },
  {
   "cell_type": "markdown",
   "metadata": {},
   "source": [
    "* Lp距离公式\n",
    "$$ \n",
    "L_{p}\\left(x_{i}, x_{j}\\right)=\\left(\\sum_{l=1}^{n}\\left|x_{i}^{(l)}-x_{j}^{(l)}\\right|^{p}\\right)^{\\frac{1}{p}}\n",
    "$$"
   ]
  },
  {
   "cell_type": "markdown",
   "metadata": {},
   "source": [
    "* $ p=2 $ 为欧氏距离\n",
    "$$ \n",
    "L_{2}\\left(x_{i}, x_{j}\\right)=\\left(\\sum_{l=1}^{n}\\left|x_{i}^{(l)}-x_{j}^{(l)}\\right|^{2}\\right)^{\\frac{1}{2}}\n",
    " $$"
   ]
  },
  {
   "cell_type": "markdown",
   "metadata": {},
   "source": [
    "* $ p=1 $ 为曼哈顿距离\n",
    "$$ \n",
    "L_{1}\\left(x_{i}, x_{j}\\right)=\\sum_{l=1}^{n}\\left|x_{i}^{(l)}-x_{j}^{(l)}\\right|\n",
    " $$"
   ]
  },
  {
   "cell_type": "markdown",
   "metadata": {},
   "source": [
    "## KNNClassifier实现\n"
   ]
  },
  {
   "cell_type": "code",
   "execution_count": 129,
   "metadata": {},
   "outputs": [
    {
     "data": {
      "text/plain": [
       "array([3])"
      ]
     },
     "execution_count": 129,
     "metadata": {},
     "output_type": "execute_result"
    }
   ],
   "source": [
    "import numpy as np\n",
    "class kdTreeNode:\n",
    "    def __init__(self, x, x_index, parent):\n",
    "        '''\n",
    "        所有节点共用x\n",
    "        利用索引来表示该节点所覆盖的数据\n",
    "        '''\n",
    "        self.x = x\n",
    "        self.x_index = x_index\n",
    "        self.parent = parent\n",
    "        self.edge_nodes_x_index = None\n",
    "        self.dim_index = None\n",
    "        self.left = None\n",
    "        self.right = None\n",
    "class kdTree:\n",
    "    def __init__(self, distance_method = 'o'):\n",
    "        self.dim_len = None\n",
    "        self.x = None\n",
    "        self.root = None\n",
    "        if(distance_method == 'm'):\n",
    "            self._dist_method = self._manhattan_distance\n",
    "            self._dist_method_2d = self._manhattan_distance_2d\n",
    "        else:\n",
    "            self._dist_method = self._euler_dist\n",
    "            self._dist_method_2d = self._euler_dist_2d\n",
    "    def _euler_dist(self, x1, x):\n",
    "        return np.sqrt(np.multiply(x-x1, x-x1).sum())\n",
    "    def _manhattan_distance(self, x1, x):\n",
    "        return np.abs(x-x1).sum()\n",
    "    def _euler_dist_2d(self, x2d, x):\n",
    "        return np.sum(np.multiply(x2d-x, x2d-x), axis = 1)\n",
    "    def _manhattan_distance_2d(self, x2d, x):\n",
    "        return np.sum(np.abs(x2d-x), axis = 1)\n",
    "    def _median(self, arr):\n",
    "        temp = arr.copy()\n",
    "        temp.sort()\n",
    "        return temp[len(temp) // 2]\n",
    "    def _build_child_node(self, x, x_index, parent):\n",
    "        if(0 == x_index.size):\n",
    "            return None\n",
    "        else:\n",
    "            return kdTreeNode(x, x_index, parent)\n",
    "    def _fit(self, dim_len, current_dim,  node):\n",
    "        if(None == node):\n",
    "            return\n",
    "        node.dim_index = current_dim\n",
    "        splited_x = node.x[node.x_index]\n",
    "        median_value = self._median(splited_x[:, current_dim])   \n",
    "        node.edge_nodes_x_index = splited_x[np.where(splited_x[:, current_dim] \n",
    "                                           == median_value)][:, -1]\n",
    "        node.left = self._build_child_node(node.x, splited_x[np.where(splited_x[:, current_dim] \n",
    "                                           < median_value)][:, -1], node)\n",
    "        node.right = self._build_child_node(node.x, splited_x[np.where(splited_x[:, current_dim] \n",
    "                                           > median_value)][:, -1], node)\n",
    "        self._fit(dim_len, (current_dim + 1)%dim_len, node.left)\n",
    "        self._fit(dim_len, (current_dim + 1)%dim_len, node.right)\n",
    "\n",
    "    def fit(self, x):\n",
    "        self.dim_len = x.shape[1]\n",
    "        #保存原始索引\n",
    "        self.x = np.hstack((x, np.arange(len(x)).reshape(-1, 1)))        \n",
    "        self.root = kdTreeNode(self.x, np.arange(len(x)), None)\n",
    "        self._fit(self.dim_len, 0, self.root)\n",
    "    def _search_nreaest_leaf(self, target_x, node):\n",
    "        #print('dim', node.dim_index, 'edge value', edge_value)\n",
    "        #print(node.x[node.edge_nodes_x_index])\n",
    "        if(node.left != None or node.right != None):\n",
    "            edge_value = node.x[node.edge_nodes_x_index][0][node.dim_index]\n",
    "            if(target_x[node.dim_index] == edge_value):\n",
    "                if(None != node.left):\n",
    "                    return self._search_nreaest_leaf(target_x, node.left)\n",
    "                if(None != node.right):\n",
    "                    return self._search_nreaest_leaf(target_x, node.right)\n",
    "            elif(target_x[node.dim_index] < edge_value):\n",
    "                if(None != node.left):\n",
    "                    return self._search_nreaest_leaf(target_x, node.left)\n",
    "                else:\n",
    "                    return self._search_nreaest_leaf(target_x, node.right)\n",
    "            else:\n",
    "                if(None != node.right):\n",
    "                    return self._search_nreaest_leaf(target_x, node.right)\n",
    "                else:\n",
    "                    return self._search_nreaest_leaf(target_x, node.left)\n",
    "        else:\n",
    "            return node\n",
    "    def _search_nreaest_node(self, target_x, leaf_node):\n",
    "        #print(leaf_node.x[leaf_node.edge_nodes_x_index][:, :-1])\n",
    "        #print(target_x)\n",
    "        nearest_distance = float('inf')\n",
    "        nearest_node = None\n",
    "        node = leaf_node\n",
    "        while(node):\n",
    "            distance = self._dist_method_2d(\n",
    "                node.x[node.edge_nodes_x_index][:, :-1], target_x).min()\n",
    "            if(distance <= nearest_distance):\n",
    "                nearest_distance = distance\n",
    "                nearest_node = node\n",
    "            node = node.parent\n",
    "        return nearest_node\n",
    "    def _search_node_has_k(self, nearest_node, k):\n",
    "        node = nearest_node\n",
    "        while(node and k > node.x_index.shape[0]):\n",
    "            #print(node.x_index.shape[0], k)\n",
    "            node = node.parent\n",
    "        return node\n",
    "    def _get_k_index(self, target_x, node, k):\n",
    "        copied_x = node.x[node.x_index].copy()\n",
    "        distance_k = self._dist_method_2d(copied_x[:, :-1], target_x)\n",
    "        res = np.hstack(\n",
    "                (copied_x[:, -1].reshape(-1, 1), distance_k.reshape(-1, 1)))\n",
    "        return res[np.argsort(res[:,-1])][0:k, 0]\n",
    "    def search_nreaest_k(self, target_x, k):\n",
    "        if(self.dim_len != len(target_x)):\n",
    "            return None\n",
    "        nearst_leaf = self._search_nreaest_leaf(target_x, self.root)\n",
    "        nearest_node = self._search_nreaest_node(target_x, nearst_leaf)\n",
    "        if(nearest_node.parent):\n",
    "            #应该使用超圆与超矩形的相交方法，决定是否提升至父亲节点\n",
    "            nearest_node = nearest_node.parent\n",
    "        nearest_withk_node = self._search_node_has_k(nearest_node, k)\n",
    "        if(None == nearest_withk_node):\n",
    "            print('k too large')\n",
    "            return None\n",
    "        return self._get_k_index(target_x, nearest_withk_node, k)\n",
    "    def show(self):\n",
    "        print('original x:')\n",
    "        print(self.x)\n",
    "        queue = []\n",
    "        queue.append(self.root)\n",
    "        while(0 != len(queue)):\n",
    "            print('edge x')\n",
    "            print(queue[0].x[queue[0].edge_nodes_x_index])\n",
    "            print('inner x')\n",
    "            print(queue[0].x[queue[0].x_index])\n",
    "            if(queue[0].left):\n",
    "                queue.append(queue[0].left)\n",
    "            if(queue[0].right):\n",
    "                queue.append(queue[0].right)\n",
    "            del queue[0]\n",
    "\n",
    "tree = kdTree()\n",
    "test_x = np.array([\n",
    "    [2,3],\n",
    "    [5,4],\n",
    "    [9,6],\n",
    "    [4,7],\n",
    "    [8,1],\n",
    "    [7,2],\n",
    "])\n",
    "tree.fit(test_x)\n",
    "#tree.show()\n",
    "tree.search_nreaest_k(np.array([5,7]), 1)\n",
    "\n"
   ]
  },
  {
   "cell_type": "markdown",
   "metadata": {},
   "source": [
    "* kd树已实现书中所述最近邻搜索，但是无法完成k近邻搜索，按照书中示例，可见是正确的"
   ]
  },
  {
   "cell_type": "code",
   "execution_count": 134,
   "metadata": {
    "scrolled": true
   },
   "outputs": [],
   "source": [
    "import numpy as np\n",
    "from math import *\n",
    "\n",
    "class KNNClassifier:\n",
    "    def __init__(self, distance_method = \"o\"):\n",
    "        self.kd_tree = None\n",
    "        if(distance_method == 'm'):\n",
    "            self._dist_method = self._manhattan_distance\n",
    "        else:\n",
    "            self._dist_method = self._euler_dist\n",
    "    def _euler_dist(self, x1, x):\n",
    "        return np.sqrt(np.multiply(x-x1, x-x1).sum())\n",
    "    def _manhattan_distance(self, x1, x):\n",
    "        return np.abs(x-x1).sum()\n",
    "    def fit(self, x, y):\n",
    "        self.x = x\n",
    "        self.y = y\n",
    "        self.kd_tree = kdTree()\n",
    "        self.kd_tree.fit(x)\n",
    "        return self\n",
    "    def searchKNeighbour(self, x): \n",
    "        pass\n",
    "test_x = np.array([\n",
    "    [2,3],\n",
    "    [5,4],\n",
    "    [9,6],\n",
    "    [4,7],\n",
    "    [8,1],\n",
    "    [7,2],\n",
    "])"
   ]
  },
  {
   "cell_type": "code",
   "execution_count": null,
   "metadata": {
    "collapsed": true
   },
   "outputs": [],
   "source": []
  }
 ],
 "metadata": {
  "kernelspec": {
   "display_name": "Python 3",
   "language": "python",
   "name": "python3"
  },
  "language_info": {
   "codemirror_mode": {
    "name": "ipython",
    "version": 3
   },
   "file_extension": ".py",
   "mimetype": "text/x-python",
   "name": "python",
   "nbconvert_exporter": "python",
   "pygments_lexer": "ipython3",
   "version": "3.7.3"
  }
 },
 "nbformat": 4,
 "nbformat_minor": 2
}
