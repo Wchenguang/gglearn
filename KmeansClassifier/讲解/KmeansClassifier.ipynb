{
 "cells": [
  {
   "cell_type": "markdown",
   "metadata": {},
   "source": [
    "1. 首先, 随机确定 K 个初始点作为质心（不必是数据中的点）。\n",
    "2. 然后将数据集中的每个点分配到一个簇中, 具体来讲, 就是为每个点找到距其最近的质心, 并将其分配该质心所对应的簇. 这一步完成之后, 每个簇的质心更新为该簇所有点的平均值. \n",
    "3. 重复上述过程直到数据集中的所有点都距离它所对应的质心最近时结束。"
   ]
  },
  {
   "cell_type": "code",
   "execution_count": 36,
   "metadata": {},
   "outputs": [],
   "source": [
    "import numpy as np\n",
    "import matplotlib.pyplot as plt\n",
    "\n",
    "class KmeansClassifier:\n",
    "    def __init__(self, k, distance_method = \"o\", random_select = True, \n",
    "                    plot = False):\n",
    "        self.k = k\n",
    "        self.distance_method = distance_method\n",
    "        self.random_select = random_select\n",
    "        self.plot = plot\n",
    "        if(distance_method == \"o\"):\n",
    "            self._dist = self._euler_dist\n",
    "        else:\n",
    "            self._dist = self._manhattan_distance\n",
    "            \n",
    "    def _euler_dist(self, x1, x):\n",
    "        return np.sqrt(np.multiply(x-x1, x-x1).sum())\n",
    "    \n",
    "    def _manhattan_distance(self, x1, x):\n",
    "        return np.abs(x-x1).sum()\n",
    "    \n",
    "    def _get_nearest(self, x, center_list, dist):\n",
    "        dists = []\n",
    "        for center in center_list:\n",
    "            dists.append(dist(x, center))\n",
    "        return dists.index(min(dists))\n",
    "    \n",
    "    def _fit(self, x, y, dist, x_center_index_list, center_list):\n",
    "        xy_map = np.hstack((x, x_center_index_list, x_center_index_list))\n",
    "        for row in xy_map:\n",
    "            row[-1] = self._get_nearest(row[:-2], center_list, dist)\n",
    "        flag = np.all(xy_map[:, -1] == xy_map[:, -2])\n",
    "        return flag, xy_map[:, -1].reshape(-1, 1), center_list\n",
    "    \n",
    "    def _random_center_list(self, x, k):\n",
    "        center_list = np.zeros((x.shape[1], k))\n",
    "        for col in range(x.shape[1]):\n",
    "            col_max = np.max(x[:, col])\n",
    "            col_min = np.min(x[:, col])\n",
    "            center_list[col, :] = col_min + (col_max - col_min) * np.random.rand(1, k)\n",
    "        return center_list.T\n",
    "    \n",
    "    def _updata_center_list(self, x, x_center_index_list, center_list):\n",
    "        new_center_list = []\n",
    "        for index in range(len(center_list)):\n",
    "            part_x = x[np.where(\n",
    "                    x_center_index_list[:, -1] == index)]\n",
    "            if(0 != part_x.size):\n",
    "                new_center_list.append(np.mean(part_x, axis = 0))\n",
    "            else:\n",
    "                new_center_list.append(np.zeros(part_x.shape[1]))\n",
    "        return new_center_list\n",
    "    \n",
    "    def _plot(self, x, x_center_index_list, center_list):\n",
    "        '''\n",
    "        数据绘制，只能绘制二维\n",
    "        '''\n",
    "        center_array = np.array(center_list)\n",
    "        for index in range(len(center_list)):\n",
    "            part_x = x[np.where(\n",
    "                    x_center_index_list[:, -1] == index)]\n",
    "            plt.scatter(part_x[:, 0], part_x[:, 1])\n",
    "        plt.scatter(center_array[:, 0], center_array[:, 1], marker = \"+\")\n",
    "        plt.show()\n",
    "    \n",
    "    def fit(self, x, y, center_list = None):\n",
    "        if not center_list:\n",
    "            center_list = self._random_center_list(x, self.k)\n",
    "        x_center_index_list = np.zeros(x.shape[0]).reshape(-1, 1)\n",
    "        flag = False\n",
    "        while(True):\n",
    "            flag, x_center_index_list, center_list = self._fit(x, \n",
    "                                        y, self._dist, x_center_index_list, center_list)\n",
    "            if(flag):\n",
    "                break\n",
    "            center_list = self._updata_center_list(x, x_center_index_list,\n",
    "                                                      center_list)\n",
    "            if(self.plot):\n",
    "                self._plot(x, x_center_index_list, center_list)\n",
    "        return self\n"
   ]
  },
  {
   "cell_type": "code",
   "execution_count": 37,
   "metadata": {},
   "outputs": [
    {
     "data": {
      "image/png": "[encoded data removed]",
      "text/plain": [
       "<Figure size 432x288 with 1 Axes>"
      ]
     },
     "metadata": {
      "needs_background": "light"
     },
     "output_type": "display_data"
    },
    {
     "data": {
      "image/png": "[encoded data removed]",
      "text/plain": [
       "<Figure size 432x288 with 1 Axes>"
      ]
     },
     "metadata": {
      "needs_background": "light"
     },
     "output_type": "display_data"
    },
    {
     "data": {
      "image/png": "[encoded data removed]",
      "text/plain": [
       "<Figure size 432x288 with 1 Axes>"
      ]
     },
     "metadata": {
      "needs_background": "light"
     },
     "output_type": "display_data"
    },
    {
     "data": {
      "text/plain": [
       "<__main__.KmeansClassifier at 0x25f546b2358>"
      ]
     },
     "execution_count": 37,
     "metadata": {},
     "output_type": "execute_result"
    }
   ],
   "source": [
    "x = np.random.randint(1, 100, (50, 2))\n",
    "y = np.random.randint(1,4,(10, 1))\n",
    "kmeans_clf = KmeansClassifier(k = 4, plot=True)\n",
    "kmeans_clf.fit(x, y)"
   ]
  }
 ],
 "metadata": {
  "kernelspec": {
   "display_name": "Python 3",
   "language": "python",
   "name": "python3"
  },
  "language_info": {
   "codemirror_mode": {
    "name": "ipython",
    "version": 3
   },
   "file_extension": ".py",
   "mimetype": "text/x-python",
   "name": "python",
   "nbconvert_exporter": "python",
   "pygments_lexer": "ipython3",
   "version": "3.7.3"
  }
 },
 "nbformat": 4,
 "nbformat_minor": 2
}
